{
 "cells": [
  {
   "cell_type": "markdown",
   "id": "07f74743-dd4d-4cc3-9801-ba3358fc90a0",
   "metadata": {},
   "source": [
    "# <center> Practical Staistics for Data Scientist </center>\n"
   ]
  },
  {
   "cell_type": "markdown",
   "id": "f5d0759b-e0af-468d-8ada-f0441cac8554",
   "metadata": {},
   "source": [
    "## Chapter 3: Statistical Experiments and Significance Testing"
   ]
  },
  {
   "cell_type": "code",
   "execution_count": 2,
   "id": "cd465602-79c4-4c39-9d44-e9195eb951aa",
   "metadata": {},
   "outputs": [],
   "source": [
    "%matplotlib inline\n",
    "\n",
    "from pathlib import Path\n",
    "import pandas as pd\n",
    "import numpy as np\n",
    "from scipy import stats\n",
    "from sklearn.utils import resample"
   ]
  },
  {
   "cell_type": "code",
   "execution_count": 3,
   "id": "3b973a88-89ab-43c0-8dc6-b7ee468d002f",
   "metadata": {},
   "outputs": [],
   "source": [
    "import seaborn as sns\n",
    "import matplotlib.pylab as plt"
   ]
  },
  {
   "cell_type": "code",
   "execution_count": 4,
   "id": "32cfad1b-61d6-443e-8e2a-78c94965aa82",
   "metadata": {},
   "outputs": [],
   "source": [
    "try:\n",
    "    import common\n",
    "    DATA = common.dataDirectory()\n",
    "except ImportError:\n",
    "    DATA = Path().resolve() / 'data'"
   ]
  },
  {
   "cell_type": "code",
   "execution_count": 5,
   "id": "d89d376a-4f09-4be3-9944-b35c44a96378",
   "metadata": {},
   "outputs": [],
   "source": [
    "LOANS_INCOME_CSV = DATA/'loans_income.csv'\n",
    "SP500_DATA_CSV = DATA/'sp500_data.csv.gz'"
   ]
  },
  {
   "cell_type": "code",
   "execution_count": 6,
   "id": "3e604762-acbf-4404-96af-0892c9ad8f1f",
   "metadata": {},
   "outputs": [
    {
     "data": {
      "image/png": "[encoded data removed]",
      "text/plain": [
       "<Figure size 360x108 with 2 Axes>"
      ]
     },
     "metadata": {
      "needs_background": "light"
     },
     "output_type": "display_data"
    }
   ],
   "source": [
    "np.random.seed(seed=1)\n",
    "x = np.linspace(-3, 3, 300)\n",
    "xsample = stats.norm.rvs(size=1000)\n",
    "\n",
    "fig, axes = plt.subplots(ncols=2, figsize=(5,1.5))\n",
    "ax = axes[0]\n",
    "ax.fill(x, stats.norm.pdf(x))\n",
    "ax.set_axis_off()\n",
    "ax.set_xlim(-3, 3)\n",
    "\n",
    "ax = axes[1]\n",
    "ax.hist(xsample, bins = 30)\n",
    "ax.set_axis_off()\n",
    "ax.set_xlim(-3, 3)\n",
    "ax.set_position\n",
    "\n",
    "plt.show()"
   ]
  },
  {
   "cell_type": "code",
   "execution_count": 7,
   "id": "cca12737-5041-4cb5-9c3c-fc1a95cfcf4c",
   "metadata": {},
   "outputs": [
    {
     "name": "stdout",
     "output_type": "stream",
     "text": [
      "         income  type\n",
      "40292   63000.0  Data\n",
      "38959   92000.0  Data\n",
      "17361  134000.0  Data\n",
      "33996   52000.0  Data\n",
      "26491   43000.0  Data\n"
     ]
    }
   ],
   "source": [
    "loans_income = pd.read_csv(LOANS_INCOME_CSV).squeeze('columns')\n",
    "\n",
    "sample_data = pd.DataFrame({\n",
    "    'income': loans_income.sample(1000),\n",
    "    'type': 'Data',\n",
    "})\n",
    "\n",
    "sample_mean_05 = pd.DataFrame({\n",
    "    'income': [loans_income.sample(5).mean() for _ in range(1000)],\n",
    "    'type': 'Mean of 5',\n",
    "})\n",
    "\n",
    "sample_mean_20 = pd.DataFrame({\n",
    "    'income': [loans_income.sample(20).mean() for _ in range(1000)],\n",
    "    'type': 'Mean of 20',\n",
    "})\n",
    "\n",
    "results = pd.concat([sample_data, sample_mean_05, sample_mean_20])\n",
    "print(results.head())"
   ]
  },
  {
   "cell_type": "code",
   "execution_count": 8,
   "id": "d5b7a1f5-0d4e-4a94-bf0d-d68139abdff2",
   "metadata": {},
   "outputs": [
    {
     "data": {
      "image/png": "[encoded data removed]",
      "text/plain": [
       "<Figure size 288x432 with 3 Axes>"
      ]
     },
     "metadata": {
      "needs_background": "light"
     },
     "output_type": "display_data"
    }
   ],
   "source": [
    "g= sns.FacetGrid(results, col = 'type', col_wrap = 1, height =2 , aspect=2)\n",
    "g.map(plt.hist, 'income', range= [0, 200000], bins = 40)\n",
    "g.set_axis_labels('Income', 'Count')\n",
    "g.set_titles('{col_name}')\n",
    "plt.tight_layout()\n",
    "plt.show()"
   ]
  },
  {
   "cell_type": "markdown",
   "id": "1cc878a0-d06e-4e87-9265-6ca8e9096a39",
   "metadata": {},
   "source": [
    "# The Bootstrap"
   ]
  },
  {
   "cell_type": "code",
   "execution_count": 9,
   "id": "c51a7560-cf58-4d98-bd26-b5a7936c3207",
   "metadata": {},
   "outputs": [
    {
     "name": "stdout",
     "output_type": "stream",
     "text": [
      "Bootstrap Statistics: \n",
      "original: 62000.0\n",
      "bias: -82.09799999999814\n",
      "std. error: 228.73933106830927\n"
     ]
    }
   ],
   "source": [
    "results = []\n",
    "for nrepeat in range(1000):\n",
    "    sample = resample(loans_income)\n",
    "    results.append(sample.median())\n",
    "results = pd.Series(results)\n",
    "print('Bootstrap Statistics: ')\n",
    "print(f'original: {loans_income.median()}')\n",
    "print(f'bias: {results.mean() - loans_income.median()}')\n",
    "print(f'std. error: {results.std()}')"
   ]
  },
  {
   "cell_type": "markdown",
   "id": "801a13c3-2c58-454a-95a3-aae873ae285a",
   "metadata": {},
   "source": [
    "# Confidence Intervals"
   ]
  },
  {
   "cell_type": "code",
   "execution_count": 10,
   "id": "90333d94-028f-4fa1-aae4-29af7d6ab2a2",
   "metadata": {},
   "outputs": [
    {
     "name": "stdout",
     "output_type": "stream",
     "text": [
      "68760.51844\n",
      "55734.1\n"
     ]
    },
    {
     "data": {
      "image/png": "[encoded data removed]",
      "text/plain": [
       "<Figure size 288x216 with 1 Axes>"
      ]
     },
     "metadata": {
      "needs_background": "light"
     },
     "output_type": "display_data"
    }
   ],
   "source": [
    "print(loans_income.mean())\n",
    "np.random.seed(seed=3)\n",
    "#create a sample of 20 Loan income data\n",
    "sample20 = resample(loans_income, n_samples = 20, replace = False)\n",
    "print(sample20.mean())\n",
    "results = []\n",
    "for nrepeat in range(500):\n",
    "    sample = resample(sample20)\n",
    "    results.append(sample.mean())\n",
    "results = pd.Series(results)\n",
    "\n",
    "confidence_interval = list(results.quantile([0.05, 0.95]))\n",
    "ax = results.plot.hist(bins=30, figsize = (4,3))\n",
    "ax.plot(confidence_interval, [55,55], color='black')\n",
    "for x in confidence_interval:\n",
    "    ax.plot([x, x], [0, 65], color= 'black')\n",
    "    ax.text(x, 70, f'{x: .0f}',\n",
    "            horizontalalignment = 'center', verticalalignment = 'center')\n",
    "ax.text(sum(confidence_interval)/ 2, 60, '90% interval',\n",
    "        horizontalalignment = 'center', verticalalignment = 'center')\n",
    "\n",
    "meanIncome = results.mean()\n",
    "ax.plot([meanIncome, meanIncome], [0, 50], color='black', linestyle = '--')\n",
    "ax.text(meanIncome, 10, f'Mean: {meanIncome: .0f}',\n",
    "        bbox = dict(facecolor = 'white', edgecolor = 'white', alpha = 0.5),\n",
    "        horizontalalignment = 'center', verticalalignment = 'center')\n",
    "ax.set_ylim(0,80)\n",
    "ax.set_ylabel('Counts')\n",
    "plt.tight_layout()\n",
    "plt.show()"
   ]
  },
  {
   "cell_type": "code",
   "execution_count": 11,
   "id": "c6a644b7-cf33-4f9a-af42-998a615a69b7",
   "metadata": {},
   "outputs": [
    {
     "data": {
      "text/plain": [
       "Text(0, 0.5, 'Counts')"
      ]
     },
     "execution_count": 11,
     "metadata": {},
     "output_type": "execute_result"
    },
    {
     "data": {
      "image/png": "[encoded data removed]",
      "text/plain": [
       "<Figure size 288x216 with 1 Axes>"
      ]
     },
     "metadata": {
      "needs_background": "light"
     },
     "output_type": "display_data"
    }
   ],
   "source": [
    "np.random.seed(seed=3)\n",
    "#create a sample of 20 Loan income data\n",
    "sample20 = resample(loans_income, n_samples = 20, replace = False)\n",
    "\n",
    "results = []\n",
    "for nrepeat in range(500):\n",
    "    sample = resample(sample20)\n",
    "    results.append(sample.mean())\n",
    "results = pd.Series(results)\n",
    "\n",
    "confidence_interval = list(results.quantile([0.05, 0.95]))\n",
    "ax = results.plot.hist(bins=30, figsize = (4,3), color='C1')\n",
    "ax.plot(confidence_interval, [55,55], color='black', linestyle= '--')\n",
    "for x in confidence_interval:\n",
    "    ax.plot([x, x], [0, 60], color= 'black')\n",
    "ax.text(82000, 50, \n",
    "        f'90% CI\\n[{confidence_interval[0]:.0f}, {confidence_interval[1]:.0f}]',\n",
    "        fontsize = 'small')\n",
    "\n",
    "confidence_interval = list(results.quantile([0.025, 0.975]))\n",
    "ax = results.plot.hist(bins=30, figsize = (4,3))\n",
    "ax.plot(confidence_interval, [65,65], color='black', linestyle= '--')\n",
    "for x in confidence_interval:\n",
    "    ax.plot([x, x], [0, 70], color= 'black')\n",
    "ax.text(82000, 65, \n",
    "        f'95% CI\\n[{confidence_interval[0]:.0f}, {confidence_interval[1]:.0f}]',\n",
    "        fontsize = 'small')           \n",
    "                       \n",
    "meanIncome = results.mean()\n",
    "ax.plot([meanIncome, meanIncome], [0, 50], color='black', linestyle = '--')\n",
    "ax.text(meanIncome, 5, f'Mean: {meanIncome: .0f}',\n",
    "        bbox = dict(facecolor = 'white', edgecolor = 'white', alpha = 0.5),\n",
    "        horizontalalignment = 'center', verticalalignment = 'center')\n",
    "ax.set_ylim(0,80)\n",
    "ax.set_xlim(37000, 102000)\n",
    "ax.set_xticks([40000, 50000, 60000, 70000, 80000])\n",
    "ax.set_ylabel('Counts')\n"
   ]
  },
  {
   "cell_type": "markdown",
   "id": "67283e05-97de-4a43-bb4b-5bfb120cd189",
   "metadata": {},
   "source": [
    "# Normal Distribution"
   ]
  },
  {
   "cell_type": "markdown",
   "id": "c29953c4-5f29-42d8-bfee-d6cffca7a97b",
   "metadata": {},
   "source": [
    "## Standard Normal and QQ- Plots"
   ]
  },
  {
   "cell_type": "code",
   "execution_count": 12,
   "id": "d3623e85-772a-4d07-9185-b94f67a5d46e",
   "metadata": {},
   "outputs": [
    {
     "data": {
      "image/png": "[encoded data removed]",
      "text/plain": [
       "<Figure size 288x288 with 1 Axes>"
      ]
     },
     "metadata": {
      "needs_background": "light"
     },
     "output_type": "display_data"
    }
   ],
   "source": [
    "fig, ax = plt.subplots(figsize=(4,4))\n",
    "\n",
    "norm_sample = stats.norm.rvs(size=100)\n",
    "stats.probplot(norm_sample, plot=ax)\n",
    "\n",
    "plt.tight_layout()\n",
    "plt.show()"
   ]
  },
  {
   "cell_type": "markdown",
   "id": "dd681bbf-c34a-45f9-9ba9-8ad8e46a497a",
   "metadata": {},
   "source": [
    "# Long Tailed Distributions"
   ]
  },
  {
   "cell_type": "code",
   "execution_count": 13,
   "id": "9e711594-d85e-4311-8b73-27c2638e4355",
   "metadata": {},
   "outputs": [
    {
     "data": {
      "image/png": "[encoded data removed]",
      "text/plain": [
       "<Figure size 288x288 with 1 Axes>"
      ]
     },
     "metadata": {
      "needs_background": "light"
     },
     "output_type": "display_data"
    }
   ],
   "source": [
    "sp500_px = pd.read_csv(SP500_DATA_CSV)\n",
    "\n",
    "nflx = sp500_px.NFLX\n",
    "nflx = np.diff(np.log(nflx[nflx>0]))\n",
    "\n",
    "fig,ax = plt.subplots(figsize = (4,4))\n",
    "stats.probplot(nflx, plot= ax)\n",
    "plt.tight_layout()\n",
    "plt.show()"
   ]
  },
  {
   "cell_type": "markdown",
   "id": "989111b8-3aad-4eba-93f5-f5d8dcbdc289",
   "metadata": {},
   "source": [
    "# Binomial Distributions"
   ]
  },
  {
   "cell_type": "code",
   "execution_count": 14,
   "id": "fc5d0919-c0bf-4701-9fb2-8cb89fe45798",
   "metadata": {},
   "outputs": [
    {
     "name": "stdout",
     "output_type": "stream",
     "text": [
      "0.0729\n"
     ]
    }
   ],
   "source": [
    "print(stats.binom.pmf(2, n=5, p = 0.1))"
   ]
  },
  {
   "cell_type": "code",
   "execution_count": 15,
   "id": "e5a025bb-031e-457e-9ca0-6cc58608c7a3",
   "metadata": {},
   "outputs": [
    {
     "name": "stdout",
     "output_type": "stream",
     "text": [
      "0.99144\n"
     ]
    }
   ],
   "source": [
    "print(stats.binom.cdf(2, n=5, p = 0.1))"
   ]
  },
  {
   "cell_type": "markdown",
   "id": "36fbc65c-79d0-4afb-8018-4036b1dd3219",
   "metadata": {},
   "source": [
    "# Poission and Related Distributions"
   ]
  },
  {
   "cell_type": "code",
   "execution_count": 17,
   "id": "1af3417c-6cb5-4dc5-896f-7833e733412e",
   "metadata": {},
   "outputs": [
    {
     "data": {
      "image/png": "[encoded data removed]",
      "text/plain": [
       "<Figure size 432x288 with 1 Axes>"
      ]
     },
     "metadata": {
      "needs_background": "light"
     },
     "output_type": "display_data"
    }
   ],
   "source": [
    "sample = stats.poisson.rvs(2, size = 100)\n",
    "pd.Series(sample).plot.hist()\n",
    "plt.show()"
   ]
  },
  {
   "cell_type": "markdown",
   "id": "9cf73235-fe25-4374-b4f7-d1411b9ee8fb",
   "metadata": {},
   "source": [
    "# Exponential Distribution"
   ]
  },
  {
   "cell_type": "code",
   "execution_count": 18,
   "id": "7e6f4002-b25a-485a-90e4-44cc8e0d0c9f",
   "metadata": {},
   "outputs": [
    {
     "data": {
      "image/png": "[encoded data removed]",
      "text/plain": [
       "<Figure size 432x288 with 1 Axes>"
      ]
     },
     "metadata": {
      "needs_background": "light"
     },
     "output_type": "display_data"
    }
   ],
   "source": [
    "sample = stats.expon.rvs(scale=5, size = 100)\n",
    "pd.Series(sample).plot.hist()\n",
    "plt.show()"
   ]
  },
  {
   "cell_type": "markdown",
   "id": "154f33ec-a38f-4ac2-ac8c-18eee9a7e4fe",
   "metadata": {},
   "source": [
    "# Weibull Distribution"
   ]
  },
  {
   "cell_type": "code",
   "execution_count": 19,
   "id": "199fd996-7479-4427-961e-a2c47697f477",
   "metadata": {},
   "outputs": [
    {
     "data": {
      "image/png": "[encoded data removed]",
      "text/plain": [
       "<Figure size 432x288 with 1 Axes>"
      ]
     },
     "metadata": {
      "needs_background": "light"
     },
     "output_type": "display_data"
    }
   ],
   "source": [
    "sample = stats.weibull_min.rvs(1.5, scale = 5000, size = 100)\n",
    "pd.Series(sample).plot.hist()\n",
    "plt.show()"
   ]
  },
  {
   "cell_type": "code",
   "execution_count": null,
   "id": "84dd761d-ebd3-4b82-b2e4-78426b4db5e3",
   "metadata": {},
   "outputs": [],
   "source": []
  }
 ],
 "metadata": {
  "kernelspec": {
   "display_name": "Python 3",
   "language": "python",
   "name": "python3"
  },
  "language_info": {
   "codemirror_mode": {
    "name": "ipython",
    "version": 3
   },
   "file_extension": ".py",
   "mimetype": "text/x-python",
   "name": "python",
   "nbconvert_exporter": "python",
   "pygments_lexer": "ipython3",
   "version": "3.6.13"
  }
 },
 "nbformat": 4,
 "nbformat_minor": 5
}
